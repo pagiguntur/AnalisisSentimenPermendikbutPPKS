{
 "cells": [
  {
   "cell_type": "markdown",
   "metadata": {
    "id": "I5nAzFccZWWa"
   },
   "source": [
    "# Mengambil id Link Tweet snscrape"
   ]
  },
  {
   "cell_type": "markdown",
   "metadata": {
    "id": "zmGVKZUBZpCd"
   },
   "source": [
    "Import Library"
   ]
  },
  {
   "cell_type": "code",
   "execution_count": null,
   "metadata": {
    "colab": {
     "base_uri": "https://localhost:8080/"
    },
    "executionInfo": {
     "elapsed": 11788,
     "status": "ok",
     "timestamp": 1710828631264,
     "user": {
      "displayName": "Pagi Guntur",
      "userId": "16038407940407734618"
     },
     "user_tz": -420
    },
    "id": "IRo7sgboY0kB",
    "outputId": "c7bcbac4-7298-4e5b-cf49-a852123f8f53"
   },
   "outputs": [
    {
     "name": "stdout",
     "output_type": "stream",
     "text": [
      "Collecting snscrape\n",
      "  Downloading snscrape-0.7.0.20230622-py3-none-any.whl (74 kB)\n",
      "\u001b[?25l     \u001b[90m━━━━━━━━━━━━━━━━━━━━━━━━━━━━━━━━━━━━━━━━\u001b[0m \u001b[32m0.0/74.8 kB\u001b[0m \u001b[31m?\u001b[0m eta \u001b[36m-:--:--\u001b[0m\r\u001b[2K     \u001b[91m━━━━━━━━━━━━━━━━━━━━━━━━━━━━━━━━━━━━━━\u001b[0m\u001b[90m╺\u001b[0m\u001b[90m━\u001b[0m \u001b[32m71.7/74.8 kB\u001b[0m \u001b[31m2.4 MB/s\u001b[0m eta \u001b[36m0:00:01\u001b[0m\r\u001b[2K     \u001b[90m━━━━━━━━━━━━━━━━━━━━━━━━━━━━━━━━━━━━━━━━\u001b[0m \u001b[32m74.8/74.8 kB\u001b[0m \u001b[31m1.6 MB/s\u001b[0m eta \u001b[36m0:00:00\u001b[0m\n",
      "\u001b[?25hRequirement already satisfied: requests[socks] in /usr/local/lib/python3.10/dist-packages (from snscrape) (2.31.0)\n",
      "Requirement already satisfied: lxml in /usr/local/lib/python3.10/dist-packages (from snscrape) (4.9.4)\n",
      "Requirement already satisfied: beautifulsoup4 in /usr/local/lib/python3.10/dist-packages (from snscrape) (4.12.3)\n",
      "Requirement already satisfied: filelock in /usr/local/lib/python3.10/dist-packages (from snscrape) (3.13.1)\n",
      "Requirement already satisfied: soupsieve>1.2 in /usr/local/lib/python3.10/dist-packages (from beautifulsoup4->snscrape) (2.5)\n",
      "Requirement already satisfied: charset-normalizer<4,>=2 in /usr/local/lib/python3.10/dist-packages (from requests[socks]->snscrape) (3.3.2)\n",
      "Requirement already satisfied: idna<4,>=2.5 in /usr/local/lib/python3.10/dist-packages (from requests[socks]->snscrape) (3.6)\n",
      "Requirement already satisfied: urllib3<3,>=1.21.1 in /usr/local/lib/python3.10/dist-packages (from requests[socks]->snscrape) (2.0.7)\n",
      "Requirement already satisfied: certifi>=2017.4.17 in /usr/local/lib/python3.10/dist-packages (from requests[socks]->snscrape) (2024.2.2)\n",
      "Requirement already satisfied: PySocks!=1.5.7,>=1.5.6 in /usr/local/lib/python3.10/dist-packages (from requests[socks]->snscrape) (1.7.1)\n",
      "Installing collected packages: snscrape\n",
      "Successfully installed snscrape-0.7.0.20230622\n"
     ]
    }
   ],
   "source": [
    "!pip install snscrape"
   ]
  },
  {
   "cell_type": "code",
   "execution_count": null,
   "metadata": {
    "id": "X0fYbFE5Z8IK"
   },
   "outputs": [],
   "source": [
    "import pandas as pd\n",
    "import snscrape"
   ]
  },
  {
   "cell_type": "markdown",
   "metadata": {
    "id": "F83mXECRaJyr"
   },
   "source": [
    "Ambil Id lewat Link"
   ]
  },
  {
   "cell_type": "code",
   "execution_count": 16,
   "metadata": {
    "colab": {
     "base_uri": "https://localhost:8080/"
    },
    "executionInfo": {
     "elapsed": 39747,
     "status": "ok",
     "timestamp": 1710828935363,
     "user": {
      "displayName": "Pagi Guntur",
      "userId": "16038407940407734618"
     },
     "user_tz": -420
    },
    "id": "C_jQ6ZHSaItO",
    "outputId": "d08c8137-a36c-4c81-fb0a-2cb930154317"
   },
   "outputs": [
    {
     "name": "stdout",
     "output_type": "stream",
     "text": [
      "2024-03-19 06:15:04.724  ERROR  snscrape.base  Error retrieving https://twitter.com/i/api/graphql/7jT5GT59P8IFjgxwqnEdQw/SearchTimeline?variables=%7B%22rawQuery%22%3A%22telkomsel%20internet%20since%3A2022-07-01%20until%3A2022-08-01%20lang%3Aid%22%2C%22count%22%3A20%2C%22product%22%3A%22Latest%22%2C%22withDownvotePerspective%22%3Afalse%2C%22withReactionsMetadata%22%3Afalse%2C%22withReactionsPerspective%22%3Afalse%7D&features=%7B%22rweb_lists_timeline_redesign_enabled%22%3Afalse%2C%22blue_business_profile_image_shape_enabled%22%3Afalse%2C%22responsive_web_graphql_exclude_directive_enabled%22%3Atrue%2C%22verified_phone_label_enabled%22%3Afalse%2C%22creator_subscriptions_tweet_preview_api_enabled%22%3Afalse%2C%22responsive_web_graphql_timeline_navigation_enabled%22%3Atrue%2C%22responsive_web_graphql_skip_user_profile_image_extensions_enabled%22%3Afalse%2C%22tweetypie_unmention_optimization_enabled%22%3Atrue%2C%22vibe_api_enabled%22%3Atrue%2C%22responsive_web_edit_tweet_api_enabled%22%3Atrue%2C%22graphql_is_translatable_rweb_tweet_is_translatable_enabled%22%3Atrue%2C%22view_counts_everywhere_api_enabled%22%3Atrue%2C%22longform_notetweets_consumption_enabled%22%3Atrue%2C%22tweet_awards_web_tipping_enabled%22%3Afalse%2C%22freedom_of_speech_not_reach_fetch_enabled%22%3Afalse%2C%22standardized_nudges_misinfo%22%3Atrue%2C%22tweet_with_visibility_results_prefer_gql_limited_actions_policy_enabled%22%3Afalse%2C%22interactive_text_enabled%22%3Atrue%2C%22responsive_web_text_conversations_enabled%22%3Afalse%2C%22longform_notetweets_rich_text_read_enabled%22%3Afalse%2C%22longform_notetweets_inline_media_enabled%22%3Afalse%2C%22responsive_web_enhance_cards_enabled%22%3Afalse%2C%22responsive_web_twitter_blue_verified_badge_is_enabled%22%3Atrue%7D: blocked (404)\n",
      "2024-03-19 06:15:04.724  CRITICAL  snscrape.base  4 requests to https://twitter.com/i/api/graphql/7jT5GT59P8IFjgxwqnEdQw/SearchTimeline?variables=%7B%22rawQuery%22%3A%22telkomsel%20internet%20since%3A2022-07-01%20until%3A2022-08-01%20lang%3Aid%22%2C%22count%22%3A20%2C%22product%22%3A%22Latest%22%2C%22withDownvotePerspective%22%3Afalse%2C%22withReactionsMetadata%22%3Afalse%2C%22withReactionsPerspective%22%3Afalse%7D&features=%7B%22rweb_lists_timeline_redesign_enabled%22%3Afalse%2C%22blue_business_profile_image_shape_enabled%22%3Afalse%2C%22responsive_web_graphql_exclude_directive_enabled%22%3Atrue%2C%22verified_phone_label_enabled%22%3Afalse%2C%22creator_subscriptions_tweet_preview_api_enabled%22%3Afalse%2C%22responsive_web_graphql_timeline_navigation_enabled%22%3Atrue%2C%22responsive_web_graphql_skip_user_profile_image_extensions_enabled%22%3Afalse%2C%22tweetypie_unmention_optimization_enabled%22%3Atrue%2C%22vibe_api_enabled%22%3Atrue%2C%22responsive_web_edit_tweet_api_enabled%22%3Atrue%2C%22graphql_is_translatable_rweb_tweet_is_translatable_enabled%22%3Atrue%2C%22view_counts_everywhere_api_enabled%22%3Atrue%2C%22longform_notetweets_consumption_enabled%22%3Atrue%2C%22tweet_awards_web_tipping_enabled%22%3Afalse%2C%22freedom_of_speech_not_reach_fetch_enabled%22%3Afalse%2C%22standardized_nudges_misinfo%22%3Atrue%2C%22tweet_with_visibility_results_prefer_gql_limited_actions_policy_enabled%22%3Afalse%2C%22interactive_text_enabled%22%3Atrue%2C%22responsive_web_text_conversations_enabled%22%3Afalse%2C%22longform_notetweets_rich_text_read_enabled%22%3Afalse%2C%22longform_notetweets_inline_media_enabled%22%3Afalse%2C%22responsive_web_enhance_cards_enabled%22%3Afalse%2C%22responsive_web_twitter_blue_verified_badge_is_enabled%22%3Atrue%7D failed, giving up.\n",
      "2024-03-19 06:15:04.724  CRITICAL  snscrape.base  Errors: blocked (404), blocked (404), blocked (404), blocked (404)\n",
      "2024-03-19 06:15:04.744  CRITICAL  snscrape._cli  Dumped stack and locals to /tmp/snscrape_locals_7r8c9jkc\n",
      "Traceback (most recent call last):\n",
      "  File \"/usr/local/bin/snscrape\", line 8, in <module>\n",
      "    sys.exit(main())\n",
      "  File \"/usr/local/lib/python3.10/dist-packages/snscrape/_cli.py\", line 323, in main\n",
      "    for i, item in enumerate(scraper.get_items(), start = 1):\n",
      "  File \"/usr/local/lib/python3.10/dist-packages/snscrape/modules/twitter.py\", line 1763, in get_items\n",
      "    for obj in self._iter_api_data('https://twitter.com/i/api/graphql/7jT5GT59P8IFjgxwqnEdQw/SearchTimeline', _TwitterAPIType.GRAPHQL, params, paginationParams, cursor = self._cursor, instructionsPath = ['data', 'search_by_raw_query', 'search_timeline', 'timeline', 'instructions']):\n",
      "  File \"/usr/local/lib/python3.10/dist-packages/snscrape/modules/twitter.py\", line 915, in _iter_api_data\n",
      "    obj = self._get_api_data(endpoint, apiType, reqParams, instructionsPath = instructionsPath)\n",
      "  File \"/usr/local/lib/python3.10/dist-packages/snscrape/modules/twitter.py\", line 886, in _get_api_data\n",
      "    r = self._get(endpoint, params = params, headers = self._apiHeaders, responseOkCallback = functools.partial(self._check_api_response, apiType = apiType, instructionsPath = instructionsPath))\n",
      "  File \"/usr/local/lib/python3.10/dist-packages/snscrape/base.py\", line 275, in _get\n",
      "    return self._request('GET', *args, **kwargs)\n",
      "  File \"/usr/local/lib/python3.10/dist-packages/snscrape/base.py\", line 271, in _request\n",
      "    raise ScraperException(msg)\n",
      "snscrape.base.ScraperException: 4 requests to https://twitter.com/i/api/graphql/7jT5GT59P8IFjgxwqnEdQw/SearchTimeline?variables=%7B%22rawQuery%22%3A%22telkomsel%20internet%20since%3A2022-07-01%20until%3A2022-08-01%20lang%3Aid%22%2C%22count%22%3A20%2C%22product%22%3A%22Latest%22%2C%22withDownvotePerspective%22%3Afalse%2C%22withReactionsMetadata%22%3Afalse%2C%22withReactionsPerspective%22%3Afalse%7D&features=%7B%22rweb_lists_timeline_redesign_enabled%22%3Afalse%2C%22blue_business_profile_image_shape_enabled%22%3Afalse%2C%22responsive_web_graphql_exclude_directive_enabled%22%3Atrue%2C%22verified_phone_label_enabled%22%3Afalse%2C%22creator_subscriptions_tweet_preview_api_enabled%22%3Afalse%2C%22responsive_web_graphql_timeline_navigation_enabled%22%3Atrue%2C%22responsive_web_graphql_skip_user_profile_image_extensions_enabled%22%3Afalse%2C%22tweetypie_unmention_optimization_enabled%22%3Atrue%2C%22vibe_api_enabled%22%3Atrue%2C%22responsive_web_edit_tweet_api_enabled%22%3Atrue%2C%22graphql_is_translatable_rweb_tweet_is_translatable_enabled%22%3Atrue%2C%22view_counts_everywhere_api_enabled%22%3Atrue%2C%22longform_notetweets_consumption_enabled%22%3Atrue%2C%22tweet_awards_web_tipping_enabled%22%3Afalse%2C%22freedom_of_speech_not_reach_fetch_enabled%22%3Afalse%2C%22standardized_nudges_misinfo%22%3Atrue%2C%22tweet_with_visibility_results_prefer_gql_limited_actions_policy_enabled%22%3Afalse%2C%22interactive_text_enabled%22%3Atrue%2C%22responsive_web_text_conversations_enabled%22%3Afalse%2C%22longform_notetweets_rich_text_read_enabled%22%3Afalse%2C%22longform_notetweets_inline_media_enabled%22%3Afalse%2C%22responsive_web_enhance_cards_enabled%22%3Afalse%2C%22responsive_web_twitter_blue_verified_badge_is_enabled%22%3Atrue%7D failed, giving up.\n",
      "2024-03-19 06:15:20.023  ERROR  snscrape.base  Error retrieving https://api.twitter.com/1.1/guest/activate.json: non-200 response (429)\n",
      "2024-03-19 06:15:20.024  CRITICAL  snscrape.base  4 requests to https://api.twitter.com/1.1/guest/activate.json failed, giving up.\n",
      "2024-03-19 06:15:20.024  CRITICAL  snscrape.base  Errors: non-200 response (429), non-200 response (429), non-200 response (429), non-200 response (429)\n",
      "2024-03-19 06:15:20.047  CRITICAL  snscrape._cli  Dumped stack and locals to /tmp/snscrape_locals_7bdv_h6v\n",
      "Traceback (most recent call last):\n",
      "  File \"/usr/local/bin/snscrape\", line 8, in <module>\n",
      "    sys.exit(main())\n",
      "  File \"/usr/local/lib/python3.10/dist-packages/snscrape/_cli.py\", line 323, in main\n",
      "    for i, item in enumerate(scraper.get_items(), start = 1):\n",
      "  File \"/usr/local/lib/python3.10/dist-packages/snscrape/modules/twitter.py\", line 1763, in get_items\n",
      "    for obj in self._iter_api_data('https://twitter.com/i/api/graphql/7jT5GT59P8IFjgxwqnEdQw/SearchTimeline', _TwitterAPIType.GRAPHQL, params, paginationParams, cursor = self._cursor, instructionsPath = ['data', 'search_by_raw_query', 'search_timeline', 'timeline', 'instructions']):\n",
      "  File \"/usr/local/lib/python3.10/dist-packages/snscrape/modules/twitter.py\", line 915, in _iter_api_data\n",
      "    obj = self._get_api_data(endpoint, apiType, reqParams, instructionsPath = instructionsPath)\n",
      "  File \"/usr/local/lib/python3.10/dist-packages/snscrape/modules/twitter.py\", line 886, in _get_api_data\n",
      "    r = self._get(endpoint, params = params, headers = self._apiHeaders, responseOkCallback = functools.partial(self._check_api_response, apiType = apiType, instructionsPath = instructionsPath))\n",
      "  File \"/usr/local/lib/python3.10/dist-packages/snscrape/base.py\", line 275, in _get\n",
      "    return self._request('GET', *args, **kwargs)\n",
      "  File \"/usr/local/lib/python3.10/dist-packages/snscrape/base.py\", line 246, in _request\n",
      "    success, msg = responseOkCallback(r)\n",
      "  File \"/usr/local/lib/python3.10/dist-packages/snscrape/modules/twitter.py\", line 857, in _check_api_response\n",
      "    self._ensure_guest_token()\n",
      "  File \"/usr/local/lib/python3.10/dist-packages/snscrape/modules/twitter.py\", line 835, in _ensure_guest_token\n",
      "    r = self._post('https://api.twitter.com/1.1/guest/activate.json', data = b'', headers = self._apiHeaders, responseOkCallback = self._check_guest_token_response)\n",
      "  File \"/usr/local/lib/python3.10/dist-packages/snscrape/base.py\", line 278, in _post\n",
      "    return self._request('POST', *args, **kwargs)\n",
      "  File \"/usr/local/lib/python3.10/dist-packages/snscrape/base.py\", line 271, in _request\n",
      "    raise ScraperException(msg)\n",
      "snscrape.base.ScraperException: 4 requests to https://api.twitter.com/1.1/guest/activate.json failed, giving up.\n",
      "2024-03-19 06:15:28.013  ERROR  snscrape.base  Error retrieving https://api.twitter.com/1.1/guest/activate.json: non-200 response (429)\n",
      "2024-03-19 06:15:28.013  CRITICAL  snscrape.base  4 requests to https://api.twitter.com/1.1/guest/activate.json failed, giving up.\n",
      "2024-03-19 06:15:28.013  CRITICAL  snscrape.base  Errors: non-200 response (429), non-200 response (429), non-200 response (429), non-200 response (429)\n",
      "2024-03-19 06:15:28.034  CRITICAL  snscrape._cli  Dumped stack and locals to /tmp/snscrape_locals_yb1bvxzu\n",
      "Traceback (most recent call last):\n",
      "  File \"/usr/local/bin/snscrape\", line 8, in <module>\n",
      "    sys.exit(main())\n",
      "  File \"/usr/local/lib/python3.10/dist-packages/snscrape/_cli.py\", line 323, in main\n",
      "    for i, item in enumerate(scraper.get_items(), start = 1):\n",
      "  File \"/usr/local/lib/python3.10/dist-packages/snscrape/modules/twitter.py\", line 1763, in get_items\n",
      "    for obj in self._iter_api_data('https://twitter.com/i/api/graphql/7jT5GT59P8IFjgxwqnEdQw/SearchTimeline', _TwitterAPIType.GRAPHQL, params, paginationParams, cursor = self._cursor, instructionsPath = ['data', 'search_by_raw_query', 'search_timeline', 'timeline', 'instructions']):\n",
      "  File \"/usr/local/lib/python3.10/dist-packages/snscrape/modules/twitter.py\", line 915, in _iter_api_data\n",
      "    obj = self._get_api_data(endpoint, apiType, reqParams, instructionsPath = instructionsPath)\n",
      "  File \"/usr/local/lib/python3.10/dist-packages/snscrape/modules/twitter.py\", line 883, in _get_api_data\n",
      "    self._ensure_guest_token()\n",
      "  File \"/usr/local/lib/python3.10/dist-packages/snscrape/modules/twitter.py\", line 835, in _ensure_guest_token\n",
      "    r = self._post('https://api.twitter.com/1.1/guest/activate.json', data = b'', headers = self._apiHeaders, responseOkCallback = self._check_guest_token_response)\n",
      "  File \"/usr/local/lib/python3.10/dist-packages/snscrape/base.py\", line 278, in _post\n",
      "    return self._request('POST', *args, **kwargs)\n",
      "  File \"/usr/local/lib/python3.10/dist-packages/snscrape/base.py\", line 271, in _request\n",
      "    raise ScraperException(msg)\n",
      "snscrape.base.ScraperException: 4 requests to https://api.twitter.com/1.1/guest/activate.json failed, giving up.\n",
      "2024-03-19 06:15:35.926  ERROR  snscrape.base  Error retrieving https://api.twitter.com/1.1/guest/activate.json: non-200 response (429)\n",
      "2024-03-19 06:15:35.927  CRITICAL  snscrape.base  4 requests to https://api.twitter.com/1.1/guest/activate.json failed, giving up.\n",
      "2024-03-19 06:15:35.927  CRITICAL  snscrape.base  Errors: non-200 response (429), non-200 response (429), non-200 response (429), non-200 response (429)\n",
      "2024-03-19 06:15:35.948  CRITICAL  snscrape._cli  Dumped stack and locals to /tmp/snscrape_locals_gifq6pt_\n",
      "Traceback (most recent call last):\n",
      "  File \"/usr/local/bin/snscrape\", line 8, in <module>\n",
      "    sys.exit(main())\n",
      "  File \"/usr/local/lib/python3.10/dist-packages/snscrape/_cli.py\", line 323, in main\n",
      "    for i, item in enumerate(scraper.get_items(), start = 1):\n",
      "  File \"/usr/local/lib/python3.10/dist-packages/snscrape/modules/twitter.py\", line 1763, in get_items\n",
      "    for obj in self._iter_api_data('https://twitter.com/i/api/graphql/7jT5GT59P8IFjgxwqnEdQw/SearchTimeline', _TwitterAPIType.GRAPHQL, params, paginationParams, cursor = self._cursor, instructionsPath = ['data', 'search_by_raw_query', 'search_timeline', 'timeline', 'instructions']):\n",
      "  File \"/usr/local/lib/python3.10/dist-packages/snscrape/modules/twitter.py\", line 915, in _iter_api_data\n",
      "    obj = self._get_api_data(endpoint, apiType, reqParams, instructionsPath = instructionsPath)\n",
      "  File \"/usr/local/lib/python3.10/dist-packages/snscrape/modules/twitter.py\", line 883, in _get_api_data\n",
      "    self._ensure_guest_token()\n",
      "  File \"/usr/local/lib/python3.10/dist-packages/snscrape/modules/twitter.py\", line 835, in _ensure_guest_token\n",
      "    r = self._post('https://api.twitter.com/1.1/guest/activate.json', data = b'', headers = self._apiHeaders, responseOkCallback = self._check_guest_token_response)\n",
      "  File \"/usr/local/lib/python3.10/dist-packages/snscrape/base.py\", line 278, in _post\n",
      "    return self._request('POST', *args, **kwargs)\n",
      "  File \"/usr/local/lib/python3.10/dist-packages/snscrape/base.py\", line 271, in _request\n",
      "    raise ScraperException(msg)\n",
      "snscrape.base.ScraperException: 4 requests to https://api.twitter.com/1.1/guest/activate.json failed, giving up.\n"
     ]
    }
   ],
   "source": [
    "# !snscrape twitter-search \"xlcare since:2022-07-01 until:2022-08-01 \" > katakunci1.txt\n",
    "!snscrape twitter-search \"telkomsel internet since:2022-07-01 until:2022-08-01 lang:id\" > katakunci2.txt\n",
    "!snscrape twitter-search \"myxl since:2022-07-01 until:2022-08-01 lang:id\" > katakunci3.txt\n",
    "!snscrape twitter-search \"mytelkomsel since:2022-07-01 until:2022-08-01 lang:id\" > katakunci4.txt\n",
    "!snscrape twitter-search \"xl internet since:2022-07-01 until:2022-08-01 lang:id\" > katakunci5.txt\n",
    "# !snscrape twitter-hashtag blokirkominfo > hashtagkunci1.txt\n",
    "# !snscrape twitter-hashtag blokirkominfo > hashtagkunci2.txt\n",
    "# !snscrape twitter-hashtag blokirkominfo > hashtagkunci3.txt\n",
    "# !snscrape twitter-hashtag blokirkominfo > hashtagkunci4.txt\n",
    "# !snscrape twitter-hashtag blokirkominfo > hashtagkunci5.txt"
   ]
  },
  {
   "cell_type": "code",
   "execution_count": null,
   "metadata": {
    "colab": {
     "base_uri": "https://localhost:8080/"
    },
    "executionInfo": {
     "elapsed": 10,
     "status": "ok",
     "timestamp": 1710828664941,
     "user": {
      "displayName": "Pagi Guntur",
      "userId": "16038407940407734618"
     },
     "user_tz": -420
    },
    "id": "IktYRbE997ef",
    "outputId": "c1b61d44-a2ae-4b2f-e52f-04f0090f3b79"
   },
   "outputs": [
    {
     "name": "stdout",
     "output_type": "stream",
     "text": [
      "0\n",
      "0\n",
      "0\n",
      "0\n"
     ]
    }
   ],
   "source": [
    "# keyOne  = pd.read_csv(\"katakunci1.txt\", index_col= None, header = None, names = [\"links\"])\n",
    "keyTwo  = pd.read_csv(\"katakunci2.txt\", index_col= None, header = None, names = [\"links\"])\n",
    "keyTree = pd.read_csv(\"katakunci3.txt\", index_col= None, header = None, names = [\"links\"])\n",
    "keyFour = pd.read_csv(\"katakunci4.txt\", index_col= None, header = None, names = [\"links\"])\n",
    "keyFive = pd.read_csv(\"katakunci5.txt\", index_col= None, header = None, names = [\"links\"])\n",
    "# hashtagOne  = pd.read_csv(\"hashtagkunci1.txt\", index_col= None, header = None, names = [\"links\"])\n",
    "# hashtagTwo  = pd.read_csv(\"hashtagkunci2.txt\", index_col= None, header = None, names = [\"links\"])\n",
    "# hashtagTree = pd.read_csv(\"hashtagkunci3.txt\", index_col= None, header = None, names = [\"links\"])\n",
    "# hashtagFour = pd.read_csv(\"hashtagkunci4.txt\", index_col= None, header = None, names = [\"links\"])\n",
    "# hashtagFive = pd.read_csv(\"hashtagkunci5.txt\", index_col= None, header = None, names = [\"links\"])\n",
    "\n",
    "# print(len(keyOne))\n",
    "print(len(keyTwo))\n",
    "print(len(keyTree))\n",
    "print(len(keyFour))\n",
    "print(len(keyFive))\n",
    "# print(len(hashtagOne))\n",
    "# print(len(hashtagTwo))\n",
    "# print(len(hashtagTree))\n",
    "# print(len(hashtagFour))\n",
    "# print(len(hashtagFive))"
   ]
  },
  {
   "cell_type": "code",
   "execution_count": null,
   "metadata": {
    "colab": {
     "base_uri": "https://localhost:8080/"
    },
    "executionInfo": {
     "elapsed": 7,
     "status": "ok",
     "timestamp": 1710828664941,
     "user": {
      "displayName": "Pagi Guntur",
      "userId": "16038407940407734618"
     },
     "user_tz": -420
    },
    "id": "vy8wvbwcB94x",
    "outputId": "03e95a0b-0d94-4b5f-8938-e61521e5be30"
   },
   "outputs": [
    {
     "name": "stderr",
     "output_type": "stream",
     "text": [
      "<ipython-input-5-44fffbf39fb9>:3: FutureWarning: The frame.append method is deprecated and will be removed from pandas in a future version. Use pandas.concat instead.\n",
      "  allKEY = allKEY.append(keyTree, ignore_index=True)\n",
      "<ipython-input-5-44fffbf39fb9>:4: FutureWarning: The frame.append method is deprecated and will be removed from pandas in a future version. Use pandas.concat instead.\n",
      "  allKEY = allKEY.append(keyFour, ignore_index=True)\n",
      "<ipython-input-5-44fffbf39fb9>:5: FutureWarning: The frame.append method is deprecated and will be removed from pandas in a future version. Use pandas.concat instead.\n",
      "  allKEY = allKEY.append(keyFive, ignore_index=True)\n"
     ]
    },
    {
     "data": {
      "text/plain": [
       "0"
      ]
     },
     "execution_count": 5,
     "metadata": {},
     "output_type": "execute_result"
    }
   ],
   "source": [
    "allKEY = keyTwo\n",
    "# allKEY = allKEY.append(keyTwo, ignore_index=True)\n",
    "allKEY = allKEY.append(keyTree, ignore_index=True)\n",
    "allKEY = allKEY.append(keyFour, ignore_index=True)\n",
    "allKEY = allKEY.append(keyFive, ignore_index=True)\n",
    "# allKEY = allKEY.append(hashtagOne, ignore_index=True)\n",
    "# allKEY = allKEY.append(hashtagTwo, ignore_index=True)\n",
    "# allKEY = allKEY.append(hashtagTree, ignore_index=True)\n",
    "# allKEY = allKEY.append(hashtagFour, ignore_index=True)\n",
    "# allKEY = allKEY.append(hashtagFive, ignore_index=True)\n",
    "len(allKEY)"
   ]
  },
  {
   "cell_type": "code",
   "execution_count": null,
   "metadata": {
    "colab": {
     "base_uri": "https://localhost:8080/"
    },
    "executionInfo": {
     "elapsed": 5,
     "status": "ok",
     "timestamp": 1710828664941,
     "user": {
      "displayName": "Pagi Guntur",
      "userId": "16038407940407734618"
     },
     "user_tz": -420
    },
    "id": "v_YhD-weCmus",
    "outputId": "be99ac8d-87e4-451f-e6a0-7419ed6c8dc7"
   },
   "outputs": [
    {
     "data": {
      "text/plain": [
       "0"
      ]
     },
     "execution_count": 6,
     "metadata": {},
     "output_type": "execute_result"
    }
   ],
   "source": [
    "uniqKEY = allKEY.drop_duplicates()\n",
    "uniqKEY = uniqKEY.reset_index(drop=True)\n",
    "len(uniqKEY)"
   ]
  },
  {
   "cell_type": "markdown",
   "metadata": {
    "id": "EWa_Jx4JdJIX"
   },
   "source": [
    "# Ambil tweet menggunakan id url tweet menggunakan tweepy"
   ]
  },
  {
   "cell_type": "markdown",
   "metadata": {
    "id": "gbAMfccQda-R"
   },
   "source": [
    "Install tweepy"
   ]
  },
  {
   "cell_type": "code",
   "execution_count": null,
   "metadata": {
    "colab": {
     "base_uri": "https://localhost:8080/"
    },
    "executionInfo": {
     "elapsed": 8525,
     "status": "ok",
     "timestamp": 1710828673463,
     "user": {
      "displayName": "Pagi Guntur",
      "userId": "16038407940407734618"
     },
     "user_tz": -420
    },
    "id": "XYn83SzOdWfc",
    "outputId": "ce60c32f-0361-4f65-dc91-9583b01ff968"
   },
   "outputs": [
    {
     "name": "stdout",
     "output_type": "stream",
     "text": [
      "Requirement already satisfied: tweepy in /usr/local/lib/python3.10/dist-packages (4.14.0)\n",
      "Requirement already satisfied: oauthlib<4,>=3.2.0 in /usr/local/lib/python3.10/dist-packages (from tweepy) (3.2.2)\n",
      "Requirement already satisfied: requests<3,>=2.27.0 in /usr/local/lib/python3.10/dist-packages (from tweepy) (2.31.0)\n",
      "Requirement already satisfied: requests-oauthlib<2,>=1.2.0 in /usr/local/lib/python3.10/dist-packages (from tweepy) (1.4.0)\n",
      "Requirement already satisfied: charset-normalizer<4,>=2 in /usr/local/lib/python3.10/dist-packages (from requests<3,>=2.27.0->tweepy) (3.3.2)\n",
      "Requirement already satisfied: idna<4,>=2.5 in /usr/local/lib/python3.10/dist-packages (from requests<3,>=2.27.0->tweepy) (3.6)\n",
      "Requirement already satisfied: urllib3<3,>=1.21.1 in /usr/local/lib/python3.10/dist-packages (from requests<3,>=2.27.0->tweepy) (2.0.7)\n",
      "Requirement already satisfied: certifi>=2017.4.17 in /usr/local/lib/python3.10/dist-packages (from requests<3,>=2.27.0->tweepy) (2024.2.2)\n"
     ]
    }
   ],
   "source": [
    "!pip install tweepy"
   ]
  },
  {
   "cell_type": "markdown",
   "metadata": {
    "id": "WMc3hgqxdkId"
   },
   "source": [
    "import library"
   ]
  },
  {
   "cell_type": "code",
   "execution_count": null,
   "metadata": {
    "id": "v9EwSAZodmO-"
   },
   "outputs": [],
   "source": [
    "import pandas as pd\n",
    "import tweepy"
   ]
  },
  {
   "cell_type": "markdown",
   "metadata": {
    "id": "pCo4vS9Nduzm"
   },
   "source": [
    "Masukkan Auth menggunakan key dan token"
   ]
  },
  {
   "cell_type": "code",
   "execution_count": null,
   "metadata": {
    "colab": {
     "base_uri": "https://localhost:8080/"
    },
    "executionInfo": {
     "elapsed": 4,
     "status": "ok",
     "timestamp": 1710828823774,
     "user": {
      "displayName": "Pagi Guntur",
      "userId": "16038407940407734618"
     },
     "user_tz": -420
    },
    "id": "P3RhTXmBeKVr",
    "outputId": "6970828a-d7e9-4880-c3f8-63943cf128cd"
   },
   "outputs": [
    {
     "name": "stdout",
     "output_type": "stream",
     "text": [
      "<tweepy.api.API object at 0x78e550e18100>\n"
     ]
    }
   ],
   "source": [
    "consumer_key = \"\"\n",
    "consumer_secret = \"\"\n",
    "access_token = \"\"\n",
    "access_token_secret = \"\"\n",
    "\n",
    "# consumer_key = consumer_secret = access_token = access_token_secret = bearer_token = \"sas\"\n",
    "\n",
    "auth = tweepy.OAuthHandler(consumer_key, consumer_secret)\n",
    "auth.set_access_token(access_token, access_token_secret)\n",
    "api = tweepy.API(auth)"
   ]
  },
  {
   "cell_type": "markdown",
   "metadata": {
    "id": "H1LUdLpfevlV"
   },
   "source": [
    "Pisahkan id dari link"
   ]
  },
  {
   "cell_type": "code",
   "execution_count": null,
   "metadata": {
    "colab": {
     "base_uri": "https://localhost:8080/",
     "height": 53
    },
    "executionInfo": {
     "elapsed": 765,
     "status": "ok",
     "timestamp": 1710828674224,
     "user": {
      "displayName": "Pagi Guntur",
      "userId": "16038407940407734618"
     },
     "user_tz": -420
    },
    "id": "vpDliGumeVKP",
    "outputId": "e8a7a964-bf86-4f2c-97b8-544e65d65a7c"
   },
   "outputs": [
    {
     "data": {
      "application/vnd.google.colaboratory.intrinsic+json": {
       "repr_error": "Out of range float values are not JSON compliant: nan",
       "type": "dataframe",
       "variable_name": "uniqKEY"
      },
      "text/html": [
       "\n",
       "  <div id=\"df-863cdd48-0b92-42f7-8fb1-35cf35fdd0c3\" class=\"colab-df-container\">\n",
       "    <div>\n",
       "<style scoped>\n",
       "    .dataframe tbody tr th:only-of-type {\n",
       "        vertical-align: middle;\n",
       "    }\n",
       "\n",
       "    .dataframe tbody tr th {\n",
       "        vertical-align: top;\n",
       "    }\n",
       "\n",
       "    .dataframe thead th {\n",
       "        text-align: right;\n",
       "    }\n",
       "</style>\n",
       "<table border=\"1\" class=\"dataframe\">\n",
       "  <thead>\n",
       "    <tr style=\"text-align: right;\">\n",
       "      <th></th>\n",
       "      <th>links</th>\n",
       "      <th>id</th>\n",
       "    </tr>\n",
       "  </thead>\n",
       "  <tbody>\n",
       "  </tbody>\n",
       "</table>\n",
       "</div>\n",
       "    <div class=\"colab-df-buttons\">\n",
       "\n",
       "  <div class=\"colab-df-container\">\n",
       "    <button class=\"colab-df-convert\" onclick=\"convertToInteractive('df-863cdd48-0b92-42f7-8fb1-35cf35fdd0c3')\"\n",
       "            title=\"Convert this dataframe to an interactive table.\"\n",
       "            style=\"display:none;\">\n",
       "\n",
       "  <svg xmlns=\"http://www.w3.org/2000/svg\" height=\"24px\" viewBox=\"0 -960 960 960\">\n",
       "    <path d=\"M120-120v-720h720v720H120Zm60-500h600v-160H180v160Zm220 220h160v-160H400v160Zm0 220h160v-160H400v160ZM180-400h160v-160H180v160Zm440 0h160v-160H620v160ZM180-180h160v-160H180v160Zm440 0h160v-160H620v160Z\"/>\n",
       "  </svg>\n",
       "    </button>\n",
       "\n",
       "  <style>\n",
       "    .colab-df-container {\n",
       "      display:flex;\n",
       "      gap: 12px;\n",
       "    }\n",
       "\n",
       "    .colab-df-convert {\n",
       "      background-color: #E8F0FE;\n",
       "      border: none;\n",
       "      border-radius: 50%;\n",
       "      cursor: pointer;\n",
       "      display: none;\n",
       "      fill: #1967D2;\n",
       "      height: 32px;\n",
       "      padding: 0 0 0 0;\n",
       "      width: 32px;\n",
       "    }\n",
       "\n",
       "    .colab-df-convert:hover {\n",
       "      background-color: #E2EBFA;\n",
       "      box-shadow: 0px 1px 2px rgba(60, 64, 67, 0.3), 0px 1px 3px 1px rgba(60, 64, 67, 0.15);\n",
       "      fill: #174EA6;\n",
       "    }\n",
       "\n",
       "    .colab-df-buttons div {\n",
       "      margin-bottom: 4px;\n",
       "    }\n",
       "\n",
       "    [theme=dark] .colab-df-convert {\n",
       "      background-color: #3B4455;\n",
       "      fill: #D2E3FC;\n",
       "    }\n",
       "\n",
       "    [theme=dark] .colab-df-convert:hover {\n",
       "      background-color: #434B5C;\n",
       "      box-shadow: 0px 1px 3px 1px rgba(0, 0, 0, 0.15);\n",
       "      filter: drop-shadow(0px 1px 2px rgba(0, 0, 0, 0.3));\n",
       "      fill: #FFFFFF;\n",
       "    }\n",
       "  </style>\n",
       "\n",
       "    <script>\n",
       "      const buttonEl =\n",
       "        document.querySelector('#df-863cdd48-0b92-42f7-8fb1-35cf35fdd0c3 button.colab-df-convert');\n",
       "      buttonEl.style.display =\n",
       "        google.colab.kernel.accessAllowed ? 'block' : 'none';\n",
       "\n",
       "      async function convertToInteractive(key) {\n",
       "        const element = document.querySelector('#df-863cdd48-0b92-42f7-8fb1-35cf35fdd0c3');\n",
       "        const dataTable =\n",
       "          await google.colab.kernel.invokeFunction('convertToInteractive',\n",
       "                                                    [key], {});\n",
       "        if (!dataTable) return;\n",
       "\n",
       "        const docLinkHtml = 'Like what you see? Visit the ' +\n",
       "          '<a target=\"_blank\" href=https://colab.research.google.com/notebooks/data_table.ipynb>data table notebook</a>'\n",
       "          + ' to learn more about interactive tables.';\n",
       "        element.innerHTML = '';\n",
       "        dataTable['output_type'] = 'display_data';\n",
       "        await google.colab.output.renderOutput(dataTable, element);\n",
       "        const docLink = document.createElement('div');\n",
       "        docLink.innerHTML = docLinkHtml;\n",
       "        element.appendChild(docLink);\n",
       "      }\n",
       "    </script>\n",
       "  </div>\n",
       "\n",
       "    </div>\n",
       "  </div>\n"
      ],
      "text/plain": [
       "Empty DataFrame\n",
       "Columns: [links, id]\n",
       "Index: []"
      ]
     },
     "execution_count": 10,
     "metadata": {},
     "output_type": "execute_result"
    }
   ],
   "source": [
    "tweet_url = uniqKEY\n",
    "af = lambda x: x[\"links\"].split(\"/\")[-1]\n",
    "tweet_url['id'] = tweet_url.apply(af, axis=1)\n",
    "tweet_url"
   ]
  },
  {
   "cell_type": "markdown",
   "metadata": {
    "id": "-DYra8nme0mq"
   },
   "source": [
    "ambil data twitter berdasarkan id"
   ]
  },
  {
   "cell_type": "code",
   "execution_count": null,
   "metadata": {
    "id": "NOlZKHMEetGB"
   },
   "outputs": [],
   "source": [
    "idTweetList = tweet_url['id'].tolist()\n",
    "total_count = len(idTweetList)\n",
    "chunks = (total_count - 1) // 100 + 1\n",
    "\n",
    "def fetch_tw(ids):\n",
    "    list_of_tw_status = api.statuses_lookup(ids, tweet_mode= \"extended\")\n",
    "    empty_data = pd.DataFrame()\n",
    "    for status in list_of_tw_status:\n",
    "        tweet_elem = {\"tweet_id\": status.id,\n",
    "                      \"username\": status.user.screen_name,\n",
    "                      \"follower\" : status.user.followers_count,\n",
    "                      \"tweet\":status.full_text,\n",
    "                      \"date\":status.created_at,\n",
    "                      \"retweet_count\": status.retweet_count,\n",
    "                      \"favorite_count\": status.favorite_count}\n",
    "        empty_data = empty_data.append(tweet_elem, ignore_index = True)\n",
    "    empty_data.to_csv(\"datasetTelkomselXL.csv\", mode=\"a\")\n",
    "\n",
    "for i in range(chunks):\n",
    "    batch = idTweetList[i*100:(i+1)*100]\n",
    "    result = fetch_tw(batch)"
   ]
  },
  {
   "cell_type": "markdown",
   "metadata": {
    "id": "4tehq24YhHyk"
   },
   "source": [
    "# Simpan Data dalam csv"
   ]
  },
  {
   "cell_type": "markdown",
   "metadata": {
    "id": "ePSBkgHEfPhl"
   },
   "source": [
    "panggil dataset yang sudah diambil"
   ]
  },
  {
   "cell_type": "code",
   "execution_count": null,
   "metadata": {
    "colab": {
     "base_uri": "https://localhost:8080/",
     "height": 322
    },
    "executionInfo": {
     "elapsed": 10,
     "status": "error",
     "timestamp": 1710828674225,
     "user": {
      "displayName": "Pagi Guntur",
      "userId": "16038407940407734618"
     },
     "user_tz": -420
    },
    "id": "ONNxq7IXfAxS",
    "outputId": "a8c807c4-40a5-4d0f-87ea-8a4bfc86c75f"
   },
   "outputs": [
    {
     "ename": "FileNotFoundError",
     "evalue": "[Errno 2] No such file or directory: 'datasetTelkomselXL.csv'",
     "output_type": "error",
     "traceback": [
      "\u001b[0;31m---------------------------------------------------------------------------\u001b[0m",
      "\u001b[0;31mFileNotFoundError\u001b[0m                         Traceback (most recent call last)",
      "\u001b[0;32m<ipython-input-12-cefab842f102>\u001b[0m in \u001b[0;36m<cell line: 1>\u001b[0;34m()\u001b[0m\n\u001b[0;32m----> 1\u001b[0;31m \u001b[0mdf\u001b[0m \u001b[0;34m=\u001b[0m \u001b[0mpd\u001b[0m\u001b[0;34m.\u001b[0m\u001b[0mread_csv\u001b[0m\u001b[0;34m(\u001b[0m\u001b[0;34m\"datasetTelkomselXL.csv\"\u001b[0m\u001b[0;34m)\u001b[0m\u001b[0;34m\u001b[0m\u001b[0;34m\u001b[0m\u001b[0m\n\u001b[0m\u001b[1;32m      2\u001b[0m \u001b[0mdf\u001b[0m\u001b[0;34m\u001b[0m\u001b[0;34m\u001b[0m\u001b[0m\n",
      "\u001b[0;32m/usr/local/lib/python3.10/dist-packages/pandas/util/_decorators.py\u001b[0m in \u001b[0;36mwrapper\u001b[0;34m(*args, **kwargs)\u001b[0m\n\u001b[1;32m    209\u001b[0m                 \u001b[0;32melse\u001b[0m\u001b[0;34m:\u001b[0m\u001b[0;34m\u001b[0m\u001b[0;34m\u001b[0m\u001b[0m\n\u001b[1;32m    210\u001b[0m                     \u001b[0mkwargs\u001b[0m\u001b[0;34m[\u001b[0m\u001b[0mnew_arg_name\u001b[0m\u001b[0;34m]\u001b[0m \u001b[0;34m=\u001b[0m \u001b[0mnew_arg_value\u001b[0m\u001b[0;34m\u001b[0m\u001b[0;34m\u001b[0m\u001b[0m\n\u001b[0;32m--> 211\u001b[0;31m             \u001b[0;32mreturn\u001b[0m \u001b[0mfunc\u001b[0m\u001b[0;34m(\u001b[0m\u001b[0;34m*\u001b[0m\u001b[0margs\u001b[0m\u001b[0;34m,\u001b[0m \u001b[0;34m**\u001b[0m\u001b[0mkwargs\u001b[0m\u001b[0;34m)\u001b[0m\u001b[0;34m\u001b[0m\u001b[0;34m\u001b[0m\u001b[0m\n\u001b[0m\u001b[1;32m    212\u001b[0m \u001b[0;34m\u001b[0m\u001b[0m\n\u001b[1;32m    213\u001b[0m         \u001b[0;32mreturn\u001b[0m \u001b[0mcast\u001b[0m\u001b[0;34m(\u001b[0m\u001b[0mF\u001b[0m\u001b[0;34m,\u001b[0m \u001b[0mwrapper\u001b[0m\u001b[0;34m)\u001b[0m\u001b[0;34m\u001b[0m\u001b[0;34m\u001b[0m\u001b[0m\n",
      "\u001b[0;32m/usr/local/lib/python3.10/dist-packages/pandas/util/_decorators.py\u001b[0m in \u001b[0;36mwrapper\u001b[0;34m(*args, **kwargs)\u001b[0m\n\u001b[1;32m    329\u001b[0m                     \u001b[0mstacklevel\u001b[0m\u001b[0;34m=\u001b[0m\u001b[0mfind_stack_level\u001b[0m\u001b[0;34m(\u001b[0m\u001b[0;34m)\u001b[0m\u001b[0;34m,\u001b[0m\u001b[0;34m\u001b[0m\u001b[0;34m\u001b[0m\u001b[0m\n\u001b[1;32m    330\u001b[0m                 )\n\u001b[0;32m--> 331\u001b[0;31m             \u001b[0;32mreturn\u001b[0m \u001b[0mfunc\u001b[0m\u001b[0;34m(\u001b[0m\u001b[0;34m*\u001b[0m\u001b[0margs\u001b[0m\u001b[0;34m,\u001b[0m \u001b[0;34m**\u001b[0m\u001b[0mkwargs\u001b[0m\u001b[0;34m)\u001b[0m\u001b[0;34m\u001b[0m\u001b[0;34m\u001b[0m\u001b[0m\n\u001b[0m\u001b[1;32m    332\u001b[0m \u001b[0;34m\u001b[0m\u001b[0m\n\u001b[1;32m    333\u001b[0m         \u001b[0;31m# error: \"Callable[[VarArg(Any), KwArg(Any)], Any]\" has no\u001b[0m\u001b[0;34m\u001b[0m\u001b[0;34m\u001b[0m\u001b[0m\n",
      "\u001b[0;32m/usr/local/lib/python3.10/dist-packages/pandas/io/parsers/readers.py\u001b[0m in \u001b[0;36mread_csv\u001b[0;34m(filepath_or_buffer, sep, delimiter, header, names, index_col, usecols, squeeze, prefix, mangle_dupe_cols, dtype, engine, converters, true_values, false_values, skipinitialspace, skiprows, skipfooter, nrows, na_values, keep_default_na, na_filter, verbose, skip_blank_lines, parse_dates, infer_datetime_format, keep_date_col, date_parser, dayfirst, cache_dates, iterator, chunksize, compression, thousands, decimal, lineterminator, quotechar, quoting, doublequote, escapechar, comment, encoding, encoding_errors, dialect, error_bad_lines, warn_bad_lines, on_bad_lines, delim_whitespace, low_memory, memory_map, float_precision, storage_options)\u001b[0m\n\u001b[1;32m    948\u001b[0m     \u001b[0mkwds\u001b[0m\u001b[0;34m.\u001b[0m\u001b[0mupdate\u001b[0m\u001b[0;34m(\u001b[0m\u001b[0mkwds_defaults\u001b[0m\u001b[0;34m)\u001b[0m\u001b[0;34m\u001b[0m\u001b[0;34m\u001b[0m\u001b[0m\n\u001b[1;32m    949\u001b[0m \u001b[0;34m\u001b[0m\u001b[0m\n\u001b[0;32m--> 950\u001b[0;31m     \u001b[0;32mreturn\u001b[0m \u001b[0m_read\u001b[0m\u001b[0;34m(\u001b[0m\u001b[0mfilepath_or_buffer\u001b[0m\u001b[0;34m,\u001b[0m \u001b[0mkwds\u001b[0m\u001b[0;34m)\u001b[0m\u001b[0;34m\u001b[0m\u001b[0;34m\u001b[0m\u001b[0m\n\u001b[0m\u001b[1;32m    951\u001b[0m \u001b[0;34m\u001b[0m\u001b[0m\n\u001b[1;32m    952\u001b[0m \u001b[0;34m\u001b[0m\u001b[0m\n",
      "\u001b[0;32m/usr/local/lib/python3.10/dist-packages/pandas/io/parsers/readers.py\u001b[0m in \u001b[0;36m_read\u001b[0;34m(filepath_or_buffer, kwds)\u001b[0m\n\u001b[1;32m    603\u001b[0m \u001b[0;34m\u001b[0m\u001b[0m\n\u001b[1;32m    604\u001b[0m     \u001b[0;31m# Create the parser.\u001b[0m\u001b[0;34m\u001b[0m\u001b[0;34m\u001b[0m\u001b[0m\n\u001b[0;32m--> 605\u001b[0;31m     \u001b[0mparser\u001b[0m \u001b[0;34m=\u001b[0m \u001b[0mTextFileReader\u001b[0m\u001b[0;34m(\u001b[0m\u001b[0mfilepath_or_buffer\u001b[0m\u001b[0;34m,\u001b[0m \u001b[0;34m**\u001b[0m\u001b[0mkwds\u001b[0m\u001b[0;34m)\u001b[0m\u001b[0;34m\u001b[0m\u001b[0;34m\u001b[0m\u001b[0m\n\u001b[0m\u001b[1;32m    606\u001b[0m \u001b[0;34m\u001b[0m\u001b[0m\n\u001b[1;32m    607\u001b[0m     \u001b[0;32mif\u001b[0m \u001b[0mchunksize\u001b[0m \u001b[0;32mor\u001b[0m \u001b[0miterator\u001b[0m\u001b[0;34m:\u001b[0m\u001b[0;34m\u001b[0m\u001b[0;34m\u001b[0m\u001b[0m\n",
      "\u001b[0;32m/usr/local/lib/python3.10/dist-packages/pandas/io/parsers/readers.py\u001b[0m in \u001b[0;36m__init__\u001b[0;34m(self, f, engine, **kwds)\u001b[0m\n\u001b[1;32m   1440\u001b[0m \u001b[0;34m\u001b[0m\u001b[0m\n\u001b[1;32m   1441\u001b[0m         \u001b[0mself\u001b[0m\u001b[0;34m.\u001b[0m\u001b[0mhandles\u001b[0m\u001b[0;34m:\u001b[0m \u001b[0mIOHandles\u001b[0m \u001b[0;34m|\u001b[0m \u001b[0;32mNone\u001b[0m \u001b[0;34m=\u001b[0m \u001b[0;32mNone\u001b[0m\u001b[0;34m\u001b[0m\u001b[0;34m\u001b[0m\u001b[0m\n\u001b[0;32m-> 1442\u001b[0;31m         \u001b[0mself\u001b[0m\u001b[0;34m.\u001b[0m\u001b[0m_engine\u001b[0m \u001b[0;34m=\u001b[0m \u001b[0mself\u001b[0m\u001b[0;34m.\u001b[0m\u001b[0m_make_engine\u001b[0m\u001b[0;34m(\u001b[0m\u001b[0mf\u001b[0m\u001b[0;34m,\u001b[0m \u001b[0mself\u001b[0m\u001b[0;34m.\u001b[0m\u001b[0mengine\u001b[0m\u001b[0;34m)\u001b[0m\u001b[0;34m\u001b[0m\u001b[0;34m\u001b[0m\u001b[0m\n\u001b[0m\u001b[1;32m   1443\u001b[0m \u001b[0;34m\u001b[0m\u001b[0m\n\u001b[1;32m   1444\u001b[0m     \u001b[0;32mdef\u001b[0m \u001b[0mclose\u001b[0m\u001b[0;34m(\u001b[0m\u001b[0mself\u001b[0m\u001b[0;34m)\u001b[0m \u001b[0;34m->\u001b[0m \u001b[0;32mNone\u001b[0m\u001b[0;34m:\u001b[0m\u001b[0;34m\u001b[0m\u001b[0;34m\u001b[0m\u001b[0m\n",
      "\u001b[0;32m/usr/local/lib/python3.10/dist-packages/pandas/io/parsers/readers.py\u001b[0m in \u001b[0;36m_make_engine\u001b[0;34m(self, f, engine)\u001b[0m\n\u001b[1;32m   1733\u001b[0m                 \u001b[0;32mif\u001b[0m \u001b[0;34m\"b\"\u001b[0m \u001b[0;32mnot\u001b[0m \u001b[0;32min\u001b[0m \u001b[0mmode\u001b[0m\u001b[0;34m:\u001b[0m\u001b[0;34m\u001b[0m\u001b[0;34m\u001b[0m\u001b[0m\n\u001b[1;32m   1734\u001b[0m                     \u001b[0mmode\u001b[0m \u001b[0;34m+=\u001b[0m \u001b[0;34m\"b\"\u001b[0m\u001b[0;34m\u001b[0m\u001b[0;34m\u001b[0m\u001b[0m\n\u001b[0;32m-> 1735\u001b[0;31m             self.handles = get_handle(\n\u001b[0m\u001b[1;32m   1736\u001b[0m                 \u001b[0mf\u001b[0m\u001b[0;34m,\u001b[0m\u001b[0;34m\u001b[0m\u001b[0;34m\u001b[0m\u001b[0m\n\u001b[1;32m   1737\u001b[0m                 \u001b[0mmode\u001b[0m\u001b[0;34m,\u001b[0m\u001b[0;34m\u001b[0m\u001b[0;34m\u001b[0m\u001b[0m\n",
      "\u001b[0;32m/usr/local/lib/python3.10/dist-packages/pandas/io/common.py\u001b[0m in \u001b[0;36mget_handle\u001b[0;34m(path_or_buf, mode, encoding, compression, memory_map, is_text, errors, storage_options)\u001b[0m\n\u001b[1;32m    854\u001b[0m         \u001b[0;32mif\u001b[0m \u001b[0mioargs\u001b[0m\u001b[0;34m.\u001b[0m\u001b[0mencoding\u001b[0m \u001b[0;32mand\u001b[0m \u001b[0;34m\"b\"\u001b[0m \u001b[0;32mnot\u001b[0m \u001b[0;32min\u001b[0m \u001b[0mioargs\u001b[0m\u001b[0;34m.\u001b[0m\u001b[0mmode\u001b[0m\u001b[0;34m:\u001b[0m\u001b[0;34m\u001b[0m\u001b[0;34m\u001b[0m\u001b[0m\n\u001b[1;32m    855\u001b[0m             \u001b[0;31m# Encoding\u001b[0m\u001b[0;34m\u001b[0m\u001b[0;34m\u001b[0m\u001b[0m\n\u001b[0;32m--> 856\u001b[0;31m             handle = open(\n\u001b[0m\u001b[1;32m    857\u001b[0m                 \u001b[0mhandle\u001b[0m\u001b[0;34m,\u001b[0m\u001b[0;34m\u001b[0m\u001b[0;34m\u001b[0m\u001b[0m\n\u001b[1;32m    858\u001b[0m                 \u001b[0mioargs\u001b[0m\u001b[0;34m.\u001b[0m\u001b[0mmode\u001b[0m\u001b[0;34m,\u001b[0m\u001b[0;34m\u001b[0m\u001b[0;34m\u001b[0m\u001b[0m\n",
      "\u001b[0;31mFileNotFoundError\u001b[0m: [Errno 2] No such file or directory: 'datasetTelkomselXL.csv'"
     ]
    }
   ],
   "source": [
    "df = pd.read_csv(\"datasetTelkomselXL.csv\")\n",
    "df"
   ]
  },
  {
   "cell_type": "markdown",
   "metadata": {
    "id": "ARKTKRg6famw"
   },
   "source": [
    "Seleksi data duplikat dan data kosong dari kolom tweet"
   ]
  },
  {
   "cell_type": "code",
   "execution_count": null,
   "metadata": {
    "id": "up0d_3sUfOZB"
   },
   "outputs": [],
   "source": [
    "df = df.drop_duplicates(subset=\"tweet\")\n",
    "df = df.dropna(subset=['tweet'])\n",
    "df = df.reset_index(drop=True)\n",
    "df"
   ]
  },
  {
   "cell_type": "code",
   "execution_count": null,
   "metadata": {
    "id": "OpkQ7KAZoahX"
   },
   "outputs": [],
   "source": [
    "len(df)"
   ]
  },
  {
   "cell_type": "markdown",
   "metadata": {
    "id": "bg7Ah-ZVfgGz"
   },
   "source": [
    "hapus user, emotikon, simbol, dan link dari dataset"
   ]
  },
  {
   "cell_type": "code",
   "execution_count": null,
   "metadata": {
    "id": "PeH7ZMuUfuYC"
   },
   "outputs": [],
   "source": [
    "dataset = df[['date', 'tweet', 'retweet_count', 'favorite_count', 'username', 'follower']]\n",
    "dataset = dataset.drop_duplicates(subset=\"tweet\")\n",
    "dataset = dataset.dropna()\n",
    "dataset = dataset.sort_values(by='date')\n",
    "dataset = dataset.reset_index(drop=True)\n",
    "dataset = dataset.drop([len(df)-1])\n",
    "dataset"
   ]
  },
  {
   "cell_type": "code",
   "execution_count": null,
   "metadata": {
    "id": "cv-7EmmUpW8J"
   },
   "outputs": [],
   "source": [
    "import re\n",
    "\n",
    "for i,text in enumerate(dataset['tweet']):\n",
    "  text = re.sub(r\"&amp\", \"dan\", text)\n",
    "  text = re.sub(r\"&lt\", \"kurang dari\", text)\n",
    "  text = re.sub(r\"&gt\", \"lebih dari\", text)\n",
    "  text = re.sub(r\"\\t\", \"\", text)\n",
    "  text = re.sub(r\"\\n\", \"\", text)\n",
    "  dataset['tweet'][i] = text\n",
    "dataset"
   ]
  },
  {
   "cell_type": "markdown",
   "metadata": {
    "id": "n5PAGjxyf-8Y"
   },
   "source": [
    "Simpan dalam csv"
   ]
  },
  {
   "cell_type": "code",
   "execution_count": null,
   "metadata": {
    "id": "w3Pnw_PAgAx5"
   },
   "outputs": [],
   "source": [
    "dataset.to_csv('datasetXLTKSLInternet.csv', sep=',', encoding='utf-8', index=False)"
   ]
  }
 ],
 "metadata": {
  "colab": {
   "authorship_tag": "ABX9TyPN3YysjUUFr9msA4uqkc8o",
   "provenance": []
  },
  "kernelspec": {
   "display_name": "Python 3",
   "name": "python3"
  },
  "language_info": {
   "name": "python"
  }
 },
 "nbformat": 4,
 "nbformat_minor": 0
}
